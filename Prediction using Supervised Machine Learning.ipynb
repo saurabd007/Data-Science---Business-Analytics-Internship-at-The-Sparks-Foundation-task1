{
 "cells": [
  {
   "cell_type": "markdown",
   "id": "cbc0433c",
   "metadata": {},
   "source": [
    "# The Sparks Foundation - Data Science  Business Analytics Internship\n",
    "In this task is to predict the percentage of a student on the basis of number of hours studied using the Linear Regression supervised machine learning algorithm."
   ]
  },
  {
   "cell_type": "code",
   "execution_count": 22,
   "id": "31952d60",
   "metadata": {},
   "outputs": [
    {
     "name": "stdout",
     "output_type": "stream",
     "text": [
      "Imported Ssuccessfully \n"
     ]
    }
   ],
   "source": [
    "#Step 1\n",
    "# Importing all the necessary libraries\n",
    "\n",
    "import pandas as pd\n",
    "import numpy as np  \n",
    "import matplotlib.pyplot as plt  \n",
    "%matplotlib inline\n",
    "import seaborn as sns \n",
    "print(\"Imported Ssuccessfully \")\n",
    "\n",
    "# To ignore the warnings \n",
    "import warnings as wg\n",
    "wg.filterwarnings(\"ignore\")"
   ]
  },
  {
   "cell_type": "code",
   "execution_count": 23,
   "id": "3044144c",
   "metadata": {},
   "outputs": [
    {
     "name": "stdout",
     "output_type": "stream",
     "text": [
      "Successfully added \n"
     ]
    },
    {
     "data": {
      "text/html": [
       "<div>\n",
       "<style scoped>\n",
       "    .dataframe tbody tr th:only-of-type {\n",
       "        vertical-align: middle;\n",
       "    }\n",
       "\n",
       "    .dataframe tbody tr th {\n",
       "        vertical-align: top;\n",
       "    }\n",
       "\n",
       "    .dataframe thead th {\n",
       "        text-align: right;\n",
       "    }\n",
       "</style>\n",
       "<table border=\"1\" class=\"dataframe\">\n",
       "  <thead>\n",
       "    <tr style=\"text-align: right;\">\n",
       "      <th></th>\n",
       "      <th>Hours</th>\n",
       "      <th>Scores</th>\n",
       "    </tr>\n",
       "  </thead>\n",
       "  <tbody>\n",
       "    <tr>\n",
       "      <th>0</th>\n",
       "      <td>2.5</td>\n",
       "      <td>21</td>\n",
       "    </tr>\n",
       "    <tr>\n",
       "      <th>1</th>\n",
       "      <td>5.1</td>\n",
       "      <td>47</td>\n",
       "    </tr>\n",
       "    <tr>\n",
       "      <th>2</th>\n",
       "      <td>3.2</td>\n",
       "      <td>27</td>\n",
       "    </tr>\n",
       "    <tr>\n",
       "      <th>3</th>\n",
       "      <td>8.5</td>\n",
       "      <td>75</td>\n",
       "    </tr>\n",
       "    <tr>\n",
       "      <th>4</th>\n",
       "      <td>3.5</td>\n",
       "      <td>30</td>\n",
       "    </tr>\n",
       "  </tbody>\n",
       "</table>\n",
       "</div>"
      ],
      "text/plain": [
       "   Hours  Scores\n",
       "0    2.5      21\n",
       "1    5.1      47\n",
       "2    3.2      27\n",
       "3    8.5      75\n",
       "4    3.5      30"
      ]
     },
     "execution_count": 23,
     "metadata": {},
     "output_type": "execute_result"
    }
   ],
   "source": [
    "#importing data set\n",
    "# Reading data from remote link\n",
    "\n",
    "url = \"http://bit.ly/w-data\"\n",
    "sd = pd.read_csv(url)\n",
    "print(\"Successfully added \")\n",
    "\n",
    "sd.head()"
   ]
  },
  {
   "cell_type": "code",
   "execution_count": 24,
   "id": "4ee1f84a",
   "metadata": {},
   "outputs": [
    {
     "data": {
      "text/html": [
       "<div>\n",
       "<style scoped>\n",
       "    .dataframe tbody tr th:only-of-type {\n",
       "        vertical-align: middle;\n",
       "    }\n",
       "\n",
       "    .dataframe tbody tr th {\n",
       "        vertical-align: top;\n",
       "    }\n",
       "\n",
       "    .dataframe thead th {\n",
       "        text-align: right;\n",
       "    }\n",
       "</style>\n",
       "<table border=\"1\" class=\"dataframe\">\n",
       "  <thead>\n",
       "    <tr style=\"text-align: right;\">\n",
       "      <th></th>\n",
       "      <th>Hours</th>\n",
       "      <th>Scores</th>\n",
       "    </tr>\n",
       "  </thead>\n",
       "  <tbody>\n",
       "    <tr>\n",
       "      <th>20</th>\n",
       "      <td>2.7</td>\n",
       "      <td>30</td>\n",
       "    </tr>\n",
       "    <tr>\n",
       "      <th>21</th>\n",
       "      <td>4.8</td>\n",
       "      <td>54</td>\n",
       "    </tr>\n",
       "    <tr>\n",
       "      <th>22</th>\n",
       "      <td>3.8</td>\n",
       "      <td>35</td>\n",
       "    </tr>\n",
       "    <tr>\n",
       "      <th>23</th>\n",
       "      <td>6.9</td>\n",
       "      <td>76</td>\n",
       "    </tr>\n",
       "    <tr>\n",
       "      <th>24</th>\n",
       "      <td>7.8</td>\n",
       "      <td>86</td>\n",
       "    </tr>\n",
       "  </tbody>\n",
       "</table>\n",
       "</div>"
      ],
      "text/plain": [
       "    Hours  Scores\n",
       "20    2.7      30\n",
       "21    4.8      54\n",
       "22    3.8      35\n",
       "23    6.9      76\n",
       "24    7.8      86"
      ]
     },
     "execution_count": 24,
     "metadata": {},
     "output_type": "execute_result"
    }
   ],
   "source": [
    "sd.tail()"
   ]
  },
  {
   "cell_type": "code",
   "execution_count": 25,
   "id": "036eb842",
   "metadata": {},
   "outputs": [
    {
     "data": {
      "text/plain": [
       "(25, 2)"
      ]
     },
     "execution_count": 25,
     "metadata": {},
     "output_type": "execute_result"
    }
   ],
   "source": [
    "#size of the data\n",
    "sd.shape"
   ]
  },
  {
   "cell_type": "code",
   "execution_count": 26,
   "id": "2ed06972",
   "metadata": {},
   "outputs": [
    {
     "data": {
      "text/html": [
       "<div>\n",
       "<style scoped>\n",
       "    .dataframe tbody tr th:only-of-type {\n",
       "        vertical-align: middle;\n",
       "    }\n",
       "\n",
       "    .dataframe tbody tr th {\n",
       "        vertical-align: top;\n",
       "    }\n",
       "\n",
       "    .dataframe thead th {\n",
       "        text-align: right;\n",
       "    }\n",
       "</style>\n",
       "<table border=\"1\" class=\"dataframe\">\n",
       "  <thead>\n",
       "    <tr style=\"text-align: right;\">\n",
       "      <th></th>\n",
       "      <th>Hours</th>\n",
       "      <th>Scores</th>\n",
       "    </tr>\n",
       "  </thead>\n",
       "  <tbody>\n",
       "    <tr>\n",
       "      <th>count</th>\n",
       "      <td>25.000000</td>\n",
       "      <td>25.000000</td>\n",
       "    </tr>\n",
       "    <tr>\n",
       "      <th>mean</th>\n",
       "      <td>5.012000</td>\n",
       "      <td>51.480000</td>\n",
       "    </tr>\n",
       "    <tr>\n",
       "      <th>std</th>\n",
       "      <td>2.525094</td>\n",
       "      <td>25.286887</td>\n",
       "    </tr>\n",
       "    <tr>\n",
       "      <th>min</th>\n",
       "      <td>1.100000</td>\n",
       "      <td>17.000000</td>\n",
       "    </tr>\n",
       "    <tr>\n",
       "      <th>25%</th>\n",
       "      <td>2.700000</td>\n",
       "      <td>30.000000</td>\n",
       "    </tr>\n",
       "    <tr>\n",
       "      <th>50%</th>\n",
       "      <td>4.800000</td>\n",
       "      <td>47.000000</td>\n",
       "    </tr>\n",
       "    <tr>\n",
       "      <th>75%</th>\n",
       "      <td>7.400000</td>\n",
       "      <td>75.000000</td>\n",
       "    </tr>\n",
       "    <tr>\n",
       "      <th>max</th>\n",
       "      <td>9.200000</td>\n",
       "      <td>95.000000</td>\n",
       "    </tr>\n",
       "  </tbody>\n",
       "</table>\n",
       "</div>"
      ],
      "text/plain": [
       "           Hours     Scores\n",
       "count  25.000000  25.000000\n",
       "mean    5.012000  51.480000\n",
       "std     2.525094  25.286887\n",
       "min     1.100000  17.000000\n",
       "25%     2.700000  30.000000\n",
       "50%     4.800000  47.000000\n",
       "75%     7.400000  75.000000\n",
       "max     9.200000  95.000000"
      ]
     },
     "execution_count": 26,
     "metadata": {},
     "output_type": "execute_result"
    }
   ],
   "source": [
    "sd.describe()"
   ]
  },
  {
   "cell_type": "code",
   "execution_count": 27,
   "id": "f5a3ee91",
   "metadata": {},
   "outputs": [
    {
     "data": {
      "text/plain": [
       "Hours     0\n",
       "Scores    0\n",
       "dtype: int64"
      ]
     },
     "execution_count": 27,
     "metadata": {},
     "output_type": "execute_result"
    }
   ],
   "source": [
    "#is dataset contains null or missings values  \n",
    "sd.isnull().sum()"
   ]
  },
  {
   "cell_type": "code",
   "execution_count": 28,
   "id": "b06328c8",
   "metadata": {},
   "outputs": [
    {
     "data": {
      "image/png": "[encoded data removed]",
      "text/plain": [
       "<Figure size 1440x648 with 1 Axes>"
      ]
     },
     "metadata": {
      "needs_background": "light"
     },
     "output_type": "display_data"
    }
   ],
   "source": [
    "#Step2_Data visualization\n",
    "plt.rcParams[\"figure.figsize\"] = [20,9]\n",
    "sd.plot(x='Hours', y='Scores', style='+', color='red', markersize=15)\n",
    "plt.title('Hours_VS_ Percentage')  \n",
    "plt.xlabel('Hours_Studied')  \n",
    "plt.ylabel('Percentage_score')  \n",
    "plt.grid()\n",
    "plt.show()"
   ]
  },
  {
   "cell_type": "code",
   "execution_count": 29,
   "id": "e2051698",
   "metadata": {},
   "outputs": [
    {
     "data": {
      "text/html": [
       "<div>\n",
       "<style scoped>\n",
       "    .dataframe tbody tr th:only-of-type {\n",
       "        vertical-align: middle;\n",
       "    }\n",
       "\n",
       "    .dataframe tbody tr th {\n",
       "        vertical-align: top;\n",
       "    }\n",
       "\n",
       "    .dataframe thead th {\n",
       "        text-align: right;\n",
       "    }\n",
       "</style>\n",
       "<table border=\"1\" class=\"dataframe\">\n",
       "  <thead>\n",
       "    <tr style=\"text-align: right;\">\n",
       "      <th></th>\n",
       "      <th>Hours</th>\n",
       "      <th>Scores</th>\n",
       "    </tr>\n",
       "  </thead>\n",
       "  <tbody>\n",
       "    <tr>\n",
       "      <th>0</th>\n",
       "      <td>2.5</td>\n",
       "      <td>21</td>\n",
       "    </tr>\n",
       "    <tr>\n",
       "      <th>1</th>\n",
       "      <td>5.1</td>\n",
       "      <td>47</td>\n",
       "    </tr>\n",
       "    <tr>\n",
       "      <th>2</th>\n",
       "      <td>3.2</td>\n",
       "      <td>27</td>\n",
       "    </tr>\n",
       "    <tr>\n",
       "      <th>3</th>\n",
       "      <td>8.5</td>\n",
       "      <td>75</td>\n",
       "    </tr>\n",
       "    <tr>\n",
       "      <th>4</th>\n",
       "      <td>3.5</td>\n",
       "      <td>30</td>\n",
       "    </tr>\n",
       "  </tbody>\n",
       "</table>\n",
       "</div>"
      ],
      "text/plain": [
       "   Hours  Scores\n",
       "0    2.5      21\n",
       "1    5.1      47\n",
       "2    3.2      27\n",
       "3    8.5      75\n",
       "4    3.5      30"
      ]
     },
     "execution_count": 29,
     "metadata": {},
     "output_type": "execute_result"
    }
   ],
   "source": [
    "#step3 Preparing the data\n",
    "sd.head()"
   ]
  },
  {
   "cell_type": "code",
   "execution_count": 30,
   "id": "102be664",
   "metadata": {},
   "outputs": [],
   "source": [
    "X = sd.iloc[:, :1].values #numbers of hours studied \n",
    "y = sd.iloc[:, 1:].values #numbers obtain"
   ]
  },
  {
   "cell_type": "code",
   "execution_count": 31,
   "id": "0944ddb0",
   "metadata": {},
   "outputs": [
    {
     "data": {
      "text/plain": [
       "array([[21],\n",
       "       [47],\n",
       "       [27],\n",
       "       [75],\n",
       "       [30],\n",
       "       [20],\n",
       "       [88],\n",
       "       [60],\n",
       "       [81],\n",
       "       [25],\n",
       "       [85],\n",
       "       [62],\n",
       "       [41],\n",
       "       [42],\n",
       "       [17],\n",
       "       [95],\n",
       "       [30],\n",
       "       [24],\n",
       "       [67],\n",
       "       [69],\n",
       "       [30],\n",
       "       [54],\n",
       "       [35],\n",
       "       [76],\n",
       "       [86]], dtype=int64)"
      ]
     },
     "execution_count": 31,
     "metadata": {},
     "output_type": "execute_result"
    }
   ],
   "source": [
    "y"
   ]
  },
  {
   "cell_type": "code",
   "execution_count": 32,
   "id": "d8033539",
   "metadata": {},
   "outputs": [
    {
     "data": {
      "text/plain": [
       "array([[21],\n",
       "       [47],\n",
       "       [27],\n",
       "       [75],\n",
       "       [30],\n",
       "       [20],\n",
       "       [88],\n",
       "       [60],\n",
       "       [81],\n",
       "       [25],\n",
       "       [85],\n",
       "       [62],\n",
       "       [41],\n",
       "       [42],\n",
       "       [17],\n",
       "       [95],\n",
       "       [30],\n",
       "       [24],\n",
       "       [67],\n",
       "       [69],\n",
       "       [30],\n",
       "       [54],\n",
       "       [35],\n",
       "       [76],\n",
       "       [86]], dtype=int64)"
      ]
     },
     "execution_count": 32,
     "metadata": {},
     "output_type": "execute_result"
    }
   ],
   "source": [
    "y"
   ]
  },
  {
   "cell_type": "code",
   "execution_count": 33,
   "id": "90ef2b10",
   "metadata": {},
   "outputs": [],
   "source": [
    "#  data Splitting into training and testing data\n",
    "\n",
    "from sklearn.model_selection import train_test_split  \n",
    "X_train, X_test, y_train, y_test = train_test_split(X, y, \n",
    "                            test_size=0.3, random_state=0)"
   ]
  },
  {
   "cell_type": "code",
   "execution_count": 34,
   "id": "4f87793c",
   "metadata": {},
   "outputs": [
    {
     "data": {
      "text/plain": [
       "LinearRegression()"
      ]
     },
     "execution_count": 34,
     "metadata": {},
     "output_type": "execute_result"
    }
   ],
   "source": [
    "#step4 trining the algo\n",
    "from sklearn.linear_model import LinearRegression  \n",
    "\n",
    "model = LinearRegression()  \n",
    "model.fit(X_train, y_train)"
   ]
  },
  {
   "cell_type": "code",
   "execution_count": 35,
   "id": "d40c9020",
   "metadata": {},
   "outputs": [
    {
     "data": {
      "image/png": "[encoded data removed]",
      "text/plain": [
       "<Figure size 1440x648 with 1 Axes>"
      ]
     },
     "metadata": {
      "needs_background": "light"
     },
     "output_type": "display_data"
    }
   ],
   "source": [
    "#visualizing the model\n",
    "line = model.coef_*X + model.intercept_\n",
    "\n",
    "#training data\n",
    "plt.rcParams[\"figure.figsize\"] = [20,9]\n",
    "plt.title('Model_training')\n",
    "plt.scatter(X_train, y_train, color='blue')\n",
    "plt.plot(X, line, color='black');\n",
    "plt.xlabel('Hours_Studied')  \n",
    "plt.ylabel('Percentage_Score') \n",
    "plt.grid()\n",
    "plt.show()\n"
   ]
  },
  {
   "cell_type": "code",
   "execution_count": 36,
   "id": "c1449e1e",
   "metadata": {},
   "outputs": [
    {
     "data": {
      "image/png": "[encoded data removed]",
      "text/plain": [
       "<Figure size 1440x648 with 1 Axes>"
      ]
     },
     "metadata": {
      "needs_background": "light"
     },
     "output_type": "display_data"
    }
   ],
   "source": [
    "#testing data\n",
    "plt.rcParams[\"figure.figsize\"] = [20,9]\n",
    "plt.title(\"Model_Testing\")\n",
    "plt.scatter(X_test, y_test, color='blue')\n",
    "plt.plot(X, line, color='black');\n",
    "plt.xlabel('Hours Studied')  \n",
    "plt.ylabel('Percentage Score') \n",
    "plt.grid()\n",
    "plt.show()"
   ]
  },
  {
   "cell_type": "code",
   "execution_count": 37,
   "id": "42ca50b5",
   "metadata": {},
   "outputs": [
    {
     "name": "stdout",
     "output_type": "stream",
     "text": [
      "[[1.5]\n",
      " [3.2]\n",
      " [7.4]\n",
      " [2.5]\n",
      " [5.9]\n",
      " [3.8]\n",
      " [1.9]\n",
      " [7.8]]\n"
     ]
    }
   ],
   "source": [
    "#prediction\n",
    "print(X_test) # Testing data - In Hours\n",
    "y_pred = model.predict(X_test) # Predicting the scores"
   ]
  },
  {
   "cell_type": "code",
   "execution_count": 38,
   "id": "3da92819",
   "metadata": {},
   "outputs": [
    {
     "data": {
      "text/plain": [
       "array([[20],\n",
       "       [27],\n",
       "       [69],\n",
       "       [30],\n",
       "       [62],\n",
       "       [35],\n",
       "       [24],\n",
       "       [86]], dtype=int64)"
      ]
     },
     "execution_count": 38,
     "metadata": {},
     "output_type": "execute_result"
    }
   ],
   "source": [
    "y_test"
   ]
  },
  {
   "cell_type": "code",
   "execution_count": 39,
   "id": "6af7a2e7",
   "metadata": {},
   "outputs": [
    {
     "data": {
      "text/plain": [
       "array([[17.05366541],\n",
       "       [33.69422878],\n",
       "       [74.80620886],\n",
       "       [26.8422321 ],\n",
       "       [60.12335883],\n",
       "       [39.56736879],\n",
       "       [20.96909209],\n",
       "       [78.72163554]])"
      ]
     },
     "execution_count": 39,
     "metadata": {},
     "output_type": "execute_result"
    }
   ],
   "source": [
    "y_pred"
   ]
  },
  {
   "cell_type": "code",
   "execution_count": 40,
   "id": "d42666e1",
   "metadata": {},
   "outputs": [
    {
     "data": {
      "text/html": [
       "<div>\n",
       "<style scoped>\n",
       "    .dataframe tbody tr th:only-of-type {\n",
       "        vertical-align: middle;\n",
       "    }\n",
       "\n",
       "    .dataframe tbody tr th {\n",
       "        vertical-align: top;\n",
       "    }\n",
       "\n",
       "    .dataframe thead th {\n",
       "        text-align: right;\n",
       "    }\n",
       "</style>\n",
       "<table border=\"1\" class=\"dataframe\">\n",
       "  <thead>\n",
       "    <tr style=\"text-align: right;\">\n",
       "      <th></th>\n",
       "      <th>Actual</th>\n",
       "      <th>Predicted</th>\n",
       "    </tr>\n",
       "  </thead>\n",
       "  <tbody>\n",
       "    <tr>\n",
       "      <th>0</th>\n",
       "      <td>[[20], [27], [69], [30], [62], [35], [24], [86]]</td>\n",
       "      <td>[[17.05366541246545], [33.69422877993883], [74...</td>\n",
       "    </tr>\n",
       "  </tbody>\n",
       "</table>\n",
       "</div>"
      ],
      "text/plain": [
       "                                             Actual  \\\n",
       "0  [[20], [27], [69], [30], [62], [35], [24], [86]]   \n",
       "\n",
       "                                           Predicted  \n",
       "0  [[17.05366541246545], [33.69422877993883], [74...  "
      ]
     },
     "execution_count": 40,
     "metadata": {},
     "output_type": "execute_result"
    }
   ],
   "source": [
    "# Comparing Actual vs Predicted\n",
    "comp = pd.DataFrame({ 'Actual':[y_test],'Predicted':[y_pred] })\n",
    "comp"
   ]
  },
  {
   "cell_type": "code",
   "execution_count": 41,
   "id": "159ca782",
   "metadata": {},
   "outputs": [
    {
     "name": "stdout",
     "output_type": "stream",
     "text": [
      "The predicted score if a person studies for 8.5 hours is [85.57363222]\n"
     ]
    }
   ],
   "source": [
    "#give any input data \n",
    "\n",
    "hours =8.5\n",
    "own_pred = model.predict([[hours]])\n",
    "print(\"The predicted score if a person studies for\",hours,\"hours is\",own_pred[0])"
   ]
  },
  {
   "cell_type": "code",
   "execution_count": 42,
   "id": "b0a89b5d",
   "metadata": {},
   "outputs": [
    {
     "name": "stdout",
     "output_type": "stream",
     "text": [
      "Mean Absolute Error: 4.419727808027652\n"
     ]
    }
   ],
   "source": [
    "from sklearn import metrics  \n",
    "\n",
    "print('Mean Absolute Error:', metrics.mean_absolute_error(y_test, y_pred))"
   ]
  },
  {
   "cell_type": "markdown",
   "id": "aeada0a4",
   "metadata": {},
   "source": [
    "# Hence, it can be concluded that the predicted score if a person studies for 8.5 hours is 85.57363222"
   ]
  },
  {
   "cell_type": "code",
   "execution_count": null,
   "id": "3a444798",
   "metadata": {},
   "outputs": [],
   "source": []
  },
  {
   "cell_type": "code",
   "execution_count": null,
   "id": "cdf5f28d",
   "metadata": {},
   "outputs": [],
   "source": []
  }
 ],
 "metadata": {
  "kernelspec": {
   "display_name": "Python 3",
   "language": "python",
   "name": "python3"
  },
  "language_info": {
   "codemirror_mode": {
    "name": "ipython",
    "version": 3
   },
   "file_extension": ".py",
   "mimetype": "text/x-python",
   "name": "python",
   "nbconvert_exporter": "python",
   "pygments_lexer": "ipython3",
   "version": "3.8.8"
  }
 },
 "nbformat": 4,
 "nbformat_minor": 5
}
